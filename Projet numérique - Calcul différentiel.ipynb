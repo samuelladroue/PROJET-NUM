{
 "cells": [
  {
   "cell_type": "markdown",
   "metadata": {},
   "source": [
    "# Courbes de niveau"
   ]
  },
  {
   "cell_type": "markdown",
   "metadata": {},
   "source": [
    "## Table des matières\n",
    "\n",
    "- Préambule\n",
    "\n",
    "  - Dépendances logicielles\n",
    "\n",
    "  - Différentiation automatique\n",
    "\n",
    "- Ensembles de niveau : exemples de référence\n",
    "\n",
    "- Construction des courbes de niveau\n",
    "\n",
    "  - Méthode de Newton\n",
    "\n",
    "  - Génération des points\n",
    "\n",
    "  - Bouclage et auto-intersection \n",
    "\n",
    "- Calcul de l'aire d'un ensemble de sous-niveau\n",
    "\n",
    "  - Méthode des carrés\n",
    "\n",
    "  - Méthodes des triangles"
   ]
  },
  {
   "cell_type": "markdown",
   "metadata": {},
   "source": [
    "## Préambule"
   ]
  },
  {
   "cell_type": "markdown",
   "metadata": {},
   "source": [
    "### Dépendances logicielles "
   ]
  },
  {
   "cell_type": "code",
   "execution_count": null,
   "metadata": {
    "tags": []
   },
   "outputs": [],
   "source": [
    "# Autograd & Numpy\n",
    "import autograd\n",
    "import autograd.numpy as np\n",
    "\n",
    "# Pandas\n",
    "import pandas as pd\n",
    "\n",
    "# Matplotlib\n",
    "import matplotlib as mpl\n",
    "import matplotlib.pyplot as plt\n",
    "plt.rcParams['figure.figsize'] = [5, 5] # [width, height] (inches). \n",
    "\n",
    "# Jupyter & IPython\n",
    "from IPython.display import display"
   ]
  },
  {
   "cell_type": "markdown",
   "metadata": {},
   "source": [
    "### Différentation automatique"
   ]
  },
  {
   "cell_type": "markdown",
   "metadata": {},
   "source": [
    "On définit ici deux fonctions utilitaires, `grad` et `J`, permettant de calculer simplement le gradient d'une fonction scalaire de deux variables réelles et la matrice jacobienne d'une fonction vectorielle de deux variables réelles."
   ]
  },
  {
   "cell_type": "code",
   "execution_count": null,
   "metadata": {},
   "outputs": [],
   "source": [
    "def grad(f):\n",
    "    g = autograd.grad\n",
    "    def grad_f(x, y):\n",
    "        return np.array([g(f, 0)(x, y), g(f, 1)(x, y)])\n",
    "    return grad_f"
   ]
  },
  {
   "cell_type": "code",
   "execution_count": null,
   "metadata": {},
   "outputs": [],
   "source": [
    "def J(f):\n",
    "    j = autograd.jacobian\n",
    "    def J_f(x, y):\n",
    "        return np.array([j(f, 0)(x, y), j(f, 1)(x, y)]).T\n",
    "    return J_f"
   ]
  },
  {
   "cell_type": "markdown",
   "metadata": {},
   "source": [
    "Exemples d'usage :"
   ]
  },
  {
   "cell_type": "code",
   "execution_count": null,
   "metadata": {},
   "outputs": [],
   "source": [
    "def f(x, y):\n",
    "    return np.sin(x) + 2.0 * np.sin(y)\n",
    "\n",
    "grad_f = grad(f)\n",
    "\n",
    "grad_f(1.0, 0.0) # array([1., 2.])\n",
    "#g = autograd.grad\n",
    "#print(g(f,0)(0.0,0.0))"
   ]
  },
  {
   "cell_type": "code",
   "execution_count": null,
   "metadata": {},
   "outputs": [],
   "source": [
    "def f(x, y):\n",
    "    return np.array([x + 2 * y, 3 * x + 4 * y])\n",
    "\n",
    "J_f = J(f)\n",
    "\n",
    "J_f(0.0, 0.0) # array([[1., 2.], [3., 4.]])"
   ]
  },
  {
   "cell_type": "markdown",
   "metadata": {},
   "source": [
    "## Ensembles de niveau : exemples de référence"
   ]
  },
  {
   "cell_type": "markdown",
   "metadata": {},
   "source": [
    "On appelle *ensemble de niveau* $c \\in \\mathbb{R}$ d'une fonction $f : \\mathbb{R}^2 \\to \\mathbb{R}$  l'ensemble du plan\n",
    "$$\n",
    "\\{(x,y) \\in \\mathbb{R}^2 \\; | \\; f(x, y) = c\\}.\n",
    "$$\n"
   ]
  },
  {
   "cell_type": "markdown",
   "metadata": {},
   "source": [
    "On définit ici quelques fonctions qui pourront servir de référence pour valider les algorithmes de génération de courbes de niveau. On pourra également utiliser la fonction utilitaire `display_contour` ci-dessous, qui exploite [la fonction `contour` de Matplotlib](https://matplotlib.org/3.1.1/api/_as_gen/matplotlib.pyplot.contour.html) pour représenter une collection d'ensembles de niveau."
   ]
  },
  {
   "cell_type": "code",
   "execution_count": null,
   "metadata": {},
   "outputs": [],
   "source": [
    "def display_contour(f, x, y, levels):\n",
    "    X, Y = np.meshgrid(x, y)\n",
    "    Z = f(X, Y)\n",
    "    fig, ax = plt.subplots()\n",
    "    contour_set = plt.contour(\n",
    "        X, Y, Z, colors=\"grey\", linestyles=\"dashed\", \n",
    "        levels=levels \n",
    "    )\n",
    "    ax.clabel(contour_set)\n",
    "    plt.grid(True)\n",
    "    plt.xlabel(\"$x_1$\") \n",
    "    plt.ylabel(\"$x_2$\")\n",
    "    plt.gca().set_aspect(\"equal\")"
   ]
  },
  {
   "cell_type": "markdown",
   "metadata": {},
   "source": [
    "#### Fonction quadratique"
   ]
  },
  {
   "cell_type": "code",
   "execution_count": null,
   "metadata": {},
   "outputs": [],
   "source": [
    "def f1(x, y):\n",
    "    x = np.array(x)\n",
    "    y = np.array(y)\n",
    "    return 3.0 * x * x - 2.0 * x * y + 3.0 * y * y "
   ]
  },
  {
   "cell_type": "code",
   "execution_count": null,
   "metadata": {
    "tags": []
   },
   "outputs": [],
   "source": [
    "display_contour(\n",
    "    f1, \n",
    "    x=np.linspace(-1.0, 1.0, 100), \n",
    "    y=np.linspace(-1.0, 1.0, 100), \n",
    "    levels=10 # 10 levels, automatically selected\n",
    ")"
   ]
  },
  {
   "cell_type": "markdown",
   "metadata": {},
   "source": [
    "#### Fonction de Rosenbrock\n",
    "\n",
    "Source : [Fonction de Rosenbrock, Wikipédia](https://en.wikipedia.org/wiki/Rosenbrock_function)\n",
    "\n",
    "$$\n",
    "f_2 : (x,y) \\in \\mathbb{R}^2 \\mapsto (x - 1)^2 + (x - y^2)^2\n",
    "$$"
   ]
  },
  {
   "cell_type": "code",
   "execution_count": null,
   "metadata": {},
   "outputs": [],
   "source": [
    "def f2(x, y):\n",
    "    return (x - 1)**2 + (x - y**2)**2"
   ]
  },
  {
   "cell_type": "code",
   "execution_count": null,
   "metadata": {},
   "outputs": [],
   "source": [
    "display_contour(\n",
    "    f2, \n",
    "    x=np.linspace(-1.0, 3.0, 100), \n",
    "    y=np.linspace(-2.0, 2.0, 100), \n",
    "    levels=[2**i for i in range(-3, 8)] # levels: [0.125, 0.25, ..., 64, 128]\n",
    ")"
   ]
  },
  {
   "cell_type": "markdown",
   "metadata": {},
   "source": [
    "#### Fonction complexe\n",
    "\n",
    "Source: [Courbe implicite, Wikipédia](https://en.wikipedia.org/wiki/Implicit_curve)"
   ]
  },
  {
   "cell_type": "code",
   "execution_count": null,
   "metadata": {},
   "outputs": [],
   "source": [
    "def f3(x, y):\n",
    "    return np.sin(x + y) - np.cos(x * y) - 1 + 0.001 * (x * x + y * y) "
   ]
  },
  {
   "cell_type": "code",
   "execution_count": null,
   "metadata": {},
   "outputs": [],
   "source": [
    "display_contour(\n",
    "    f3, \n",
    "    x=np.linspace(-5.0, 5.0, 100), \n",
    "    y=np.linspace(-5.0, 5.0, 100), \n",
    "    levels=5, # 5 levels, automatically selected\n",
    ")"
   ]
  },
  {
   "cell_type": "markdown",
   "metadata": {},
   "source": [
    "## Construction des courbes de niveau"
   ]
  },
  {
   "cell_type": "markdown",
   "metadata": {},
   "source": [
    "### Méthode de Newton\n",
    "\n",
    "Afin de trouver des points sur des courbes de niveau, on souhaite implémenter un algorithme de résolution des équations de la forme $F(x,y) = 0$ où $F: \\mathbb{R}^2 \\to \\mathbb{R}^2$, par la méthode de Newton, amorcée par un point de référence $(x_0,y_0) \\in \\mathbb{R}^2$.\n",
    "\n",
    "L'implémentation prendra la forme générale donnée ci-dessous. L'appel `x, y = Newton(F, x0, y0, eps, N)` devra renvoyer le couple des coordonnées d'un point $(x, y)$ qui est une solution approchée de $F(x,y)=0$ à proximité de $(x_0, y_0)$. La qualité de l'approximation produite est déterminée par le réel positif $\\varepsilon > 0$, une approximation de la distance entre le point $(x,y)$ renvoyé par la fonction et la solution exacte. L'algorithme itératif s'interrompra si aucune approximation de la précision souhaitée n'a été trouvée en $N$ étapes. "
   ]
  },
  {
   "cell_type": "markdown",
   "metadata": {},
   "source": [
    "**Question** L'application à laquelle nous destinons la fonction `Newton` demande-t'elle une grande précision ?\n",
    "Choisir une valeur de `eps` qui semble raisonnable et justifier l'ordre de grandeur choisi."
   ]
  },
  {
   "cell_type": "code",
   "execution_count": null,
   "metadata": {},
   "outputs": [],
   "source": [
    "N = 100\n",
    "eps = 10**-5"
   ]
  },
  {
   "cell_type": "markdown",
   "metadata": {},
   "source": [
    "**Question** Implémenter la fonction `Newton` en complétant le canevas ci-dessous"
   ]
  },
  {
   "cell_type": "code",
   "execution_count": null,
   "metadata": {},
   "outputs": [],
   "source": [
    "def Newton(F, x0, y0, eps=eps, N=N):\n",
    "    J_f = J(F)\n",
    "    for i in range(N):\n",
    "        jaco = J_f(x0,y0)\n",
    "        jacoinv = np.linalg.inv(jaco)\n",
    "        x,y = np.array([x0,y0]) - np.dot(jacoinv,F(x0,y0).T).T\n",
    "        if np.sqrt((x - x0)**2 + (y - y0)**2) <= eps:\n",
    "            return x, y\n",
    "        x0, y0 = x, y\n",
    "    else:\n",
    "        raise ValueError(f\"no convergence in {N} steps.\")"
   ]
  },
  {
   "cell_type": "markdown",
   "metadata": {},
   "source": [
    "**Question** Tester votre implémentation de la fonction `Newton` ! On suggère par exemple de l'utiliser pour chercher un point $(x, y)$ de la ligne de niveau $0.8$ de $f_1$ (cf. Exemples de référence) qui vérifie en outre $x = y$ en utilisant le point $(0.8, 0.8)$. Puis de faire varier le point de référence, la contrainte supplémentaire, etc. et de représenter graphiquement les résultats."
   ]
  },
  {
   "cell_type": "markdown",
   "metadata": {},
   "source": [
    "### Génération des points\n",
    "\n",
    "**Question** Comment, en partant d'un point de référence $(x_0, y_0)$ tel que $f(x_0, y_0)=c$, peut-on générer avec la méthode de Newton un point $(x_1, y_1)$ également tel que $f(x_1, y_1) = c$, mais à une distance $\\delta > 0$ de $(x_0, y_0)$ et qui soit \"à droite\" quand on est en $(x_0, y_0)$ et qu'on regarde dans la direction de $\\nabla f(x_0, y_0)$ ? Implémenter la fonction `level_curve` qui répète ce procédé $N-1$ fois et renvoie un tableau NumPy de taille $2 \\times N$ contenant les coordonnées des points correspondants."
   ]
  },
  {
   "cell_type": "code",
   "execution_count": null,
   "metadata": {},
   "outputs": [],
   "source": [
    "def dist(a,b):\n",
    "    x,y = a\n",
    "    c,d = b\n",
    "    return np.sqrt((x-c)**2+(y-d)**2)\n",
    "\n",
    "def fcercle(f, delta, x0, y0,c):\n",
    "    \"\"\" \n",
    "    application de la fonction newton pour approcher à delta près le point tout en restant sur la ligne de niveau\n",
    "    \"\"\"\n",
    "    def fc(x,y):\n",
    "        return np.array([f(x,y)-c,dist((x,y),(x0,y0))-delta])\n",
    "    return fc\n",
    "\n",
    "def ortho(vec):\n",
    "    \"\"\"\n",
    "    vecteur orthogonal normalisé à droite\n",
    "    \"\"\"\n",
    "    a,b = vec\n",
    "    return np.dot(np.array([[0,1],\n",
    "                           [-1,0]]),vec.T).T/np.sqrt(a*a+b*b)\n",
    "    \n",
    "        \n",
    "def level_curve(f, x0, y0, delta=0.1, N=1000, eps=eps):\n",
    "    grad_f = grad(f)\n",
    "    \n",
    "    A = np.empty(shape = (2,N))\n",
    "    A[:,0] = x0,y0\n",
    "    \n",
    "    c = f(x0,y0)\n",
    "    \n",
    "    for i in range(N-1):\n",
    "        gradient = grad_f(x0,y0)\n",
    "        orth = ortho(gradient)*delta\n",
    "        \n",
    "        #On va dans la direction à droite du gradient\n",
    "\n",
    "        x,y = (x0,y0)+orth\n",
    "\n",
    "        #pour f2 et 0.5, il y a un bloquage au milieu, ce qui sera évité grâce aux commandes suivantes; la direction reste vers la droite du gradien initial\n",
    "\n",
    "        if i>=1 and dist(A[:,i-1],(x,y)) < delta*np.sqrt(2):\n",
    "            x,y = (x0,y0)-orth\n",
    "            \n",
    "        fnewt = fcercle(f,delta,x0,y0,c)\n",
    "        x0,y0 = Newton(fnewt,x,y)\n",
    "        A[:,i+1] = x0,y0\n",
    "        \n",
    "    return A\n",
    "   "
   ]
  },
  {
   "cell_type": "code",
   "execution_count": null,
   "metadata": {},
   "outputs": [],
   "source": [
    "#test\n",
    "def newf2(c):\n",
    "    def f(x,y):\n",
    "        return( np.array( [ f2(x,y)-c , x-y ]) ) \n",
    "    return f\n",
    "\n",
    "display_contour(\n",
    "    f2, \n",
    "    x=np.linspace(-1.0, 3.0, 100), \n",
    "    y=np.linspace(-2.0, 2.0, 100), \n",
    "    levels=[2**i for i in range(-3, 8)] # levels: [0.125, 0.25, ..., 64, 128]\n",
    ")\n",
    "\n",
    "x0,y0 = Newton(newf2(0.5),1.0,-0.5)\n",
    "courbe05 = level_curve(f2,x0,y0)\n",
    "\n",
    "x0,y0 = Newton(newf2(1),1.0,-0.5)\n",
    "courbe1 = level_curve(f2,x0,y0)\n",
    "\n",
    "plt.plot(courbe05[0,:],courbe05[1,:])\n",
    "plt.plot(courbe1[0,:],courbe1[1,:])"
   ]
  },
  {
   "cell_type": "markdown",
   "metadata": {},
   "source": [
    "### Bouclage et auto-intersection\n",
    "\n",
    "L'algorithme précédent est malheureusement susceptible de faire plusieurs fois le tour d'une courbe de niveau donnée. \n",
    "\n",
    "**Question** Proposer une nouvelle implémentation de `level_curve` qui évite ce problème. "
   ]
  },
  {
   "cell_type": "code",
   "execution_count": null,
   "metadata": {},
   "outputs": [],
   "source": [
    "def level_curve_v2(f, x0, y0, delta=0.1, N=1000, eps=eps):\n",
    "    grad_f = grad(f)\n",
    "    \n",
    "    A = np.empty(shape = (2,N))\n",
    "    A[:,0] = x0,y0\n",
    "    \n",
    "    #données initiales nécessaires\n",
    "    c = f(x0,y0)\n",
    "    x,y = x0,y0\n",
    "    grad0 = grad_f(x0,y0)\n",
    "    \n",
    "    for i in range(N-1):\n",
    "        gradient = grad_f(x,y)\n",
    "        orth = ortho(gradient)*delta\n",
    "        \n",
    "        xi,yi = (x,y)+orth\n",
    "        if i>=1 and dist(A[:,i-1],(xi,yi)) < delta*np.sqrt(2):\n",
    "            xi,yi = (x,y)-orth\n",
    "            \n",
    "        fnewt = fcercle(f,delta,x,y,c)\n",
    "        x,y = Newton(fnewt,xi,yi)\n",
    "        A[:,i+1] = x,y\n",
    "\n",
    "        if dist((x,y),(x0,y0)) < delta:\n",
    "            A[0,i+1:] = x0\n",
    "            A[1,i+1:] = y0\n",
    "            #print(f\"La boucle de niveau {c} a pris {i+1} itérations à être créée.(delta = {delta})\")    \n",
    "            return A\n",
    "        \n",
    "    return A"
   ]
  },
  {
   "cell_type": "markdown",
   "metadata": {},
   "source": [
    "**Question** Valider graphiquement le résultat au moyen des exemples de référence."
   ]
  },
  {
   "cell_type": "code",
   "execution_count": null,
   "metadata": {},
   "outputs": [],
   "source": [
    "display_contour(\n",
    "    f2, \n",
    "    x=np.linspace(-1.0, 3.0, 100), \n",
    "    y=np.linspace(-2.0, 2.0, 100), \n",
    "    levels=[2**i for i in range(-3, 8)] # levels: [0.125, 0.25, ..., 64, 128]\n",
    ")\n",
    "\n",
    "x0,y0 = Newton(newf2(0.5),1.0,-0.5)\n",
    "courbe05 = level_curve_v2(f2,x0,y0)\n",
    "\n",
    "x0,y0 = Newton(newf2(1),1.0,-0.5)\n",
    "courbe1 = level_curve_v2(f2,x0,y0)\n",
    "\n",
    "plt.plot(courbe05[0,:],courbe05[1,:])\n",
    "plt.plot(courbe1[0,:],courbe1[1,:]);\n",
    "\n"
   ]
  },
  {
   "cell_type": "markdown",
   "metadata": {},
   "source": [
    "# Calcul de l'aire d'un ensemble de sous-niveau\n",
    "On cherche à estimer l'aire d'un ensemble délimité par une courbe fermée, approchée par une ligne brisée comme les ensemble de niveau décrits précédemment.\n",
    "\n",
    "## Méthode des carrés\n",
    "Considérons un tel ensemble $K$ décrit par l'équation $f(x_1,x_2)\\leq c$.\n",
    "Une première approche grossière, sans utiliser la description de la frontière obtenue précédemment, consiste à plonger l'ensemble  $K$ dans un domaine de forme simple (disons un carré pour fixer les idées), donc d'aire connue, à recouvrir le carré d'une grille uniforme constituée de petites cellules carrée de taille $h\\times h$,  et d'estimer l'aire en fonction de la proportion du nombre de cellules dont le centre est  dans $K$. On obtient ainsi une approximation $A_h$ de l'aire de $K$. Lorsque $h$ tend vers $0$, on peut  s'attendre à ce que $A_h$ tende effectivement vers l'aire $A$ de $K$. \n",
    "\n",
    "**Question**  Coder une fonction `area_squares(f,c,h)` qui renvoie l'aire approchée de l'ensemble de sous-niveau de $f$ associée à $c$ à l'aide de la méthode des carrés pour un pas $h$. Appliquer cette méthode à l'estimation  de l'aire du disque unité et étudier numériquement le comportement de  $|A_h - A|$ quand $h$ tend vers $0$. (On pourra tracer une courbe de l'erreur fonction de $h$ en échelle log-log)."
   ]
  },
  {
   "cell_type": "code",
   "execution_count": null,
   "metadata": {},
   "outputs": [],
   "source": [
    "def point_depart(f,c,depart,h):\n",
    "    \"\"\"\n",
    "    Retourne un point solution de f(z) < c s'il existe\n",
    "    \"\"\"\n",
    "    \n",
    "    grad_f = grad(f)\n",
    "    a,b = depart\n",
    "    \n",
    "    N = 0\n",
    "    while f(a,b) > c and N < 1000:\n",
    "        a,b = (a,b) - grad_f(a,b)*h\n",
    "        N += 1\n",
    "    return (a,b)\n",
    "        \n",
    "\n",
    "def entourer(n,z,c,h,f):\n",
    "    \"\"\"\n",
    "    Renvoie le nombre de carrés de coté h dans la n-ième couche verifiant la condition\n",
    "    \"\"\"\n",
    "    haut = np.array([ z[0]+(i-n)*h + (n*h+z[1])*1j  for i in range(2*n+1)], dtype = np.cdouble)\n",
    "    bas = np.array([ z[0]+(i-n)*h + (-n*h+z[1])*1j  for i in range(2*n+1)], dtype = np.cdouble)\n",
    "    gauche = np.array([ z[0]-n*h + ((i-n)*h+z[1])*1j  for i in range(1,2*n)], dtype = np.cdouble)\n",
    "    droite = np.array([ z[0]+n*h + ((i-n)*h+z[1])*1j for i in range(1,2*n)], dtype = np.cdouble)\n",
    "    contour = np.concatenate((haut,bas,gauche,droite))\n",
    "    \n",
    "    def dedans(x):\n",
    "        if f(x.real,x.imag) <= c:\n",
    "            return True\n",
    "        return False\n",
    "    absolute_vect = np.vectorize(dedans)\n",
    "    \n",
    "    return np.sum(absolute_vect(contour))\n",
    "\n",
    "\n",
    "def area_squares(f,c,h, depart = (0.,0.)):\n",
    "    \"\"\"\n",
    "    depart: point ou l'on commence pour trouver un élement de l'ensemble\n",
    "    delta: précision pour trouver l'élement\n",
    "    \"\"\"\n",
    "    #On prend une sol de base\n",
    "    sol = point_depart(f,c,depart,h)\n",
    "    \n",
    "    #On l'entoure de carrés de plus en plus grands en augmentant les cotés de 2*h jusqu'à entourer la courbe fermée.\n",
    "    n = 1\n",
    "    nbcarre = 1\n",
    "    \n",
    "    while True:\n",
    "        nbcarre_rgn = entourer(n,sol,c,h,f)\n",
    "        nbcarre += nbcarre_rgn\n",
    "        n += 1\n",
    "        \n",
    "        #Si on n'ajoute aucun carré c'est qu'on a entouré la forme et qu'on peut s'arreter\n",
    "        if nbcarre_rgn == 0:\n",
    "            return nbcarre*h*h"
   ]
  },
  {
   "cell_type": "code",
   "execution_count": null,
   "metadata": {},
   "outputs": [],
   "source": [
    "def cercleu(x,y):\n",
    "    return x**2+y**2\n",
    "\n",
    "\n",
    "X = [1.0,0.5,0.2,0.1,0.05,0.02,0.015,0.013,0.011,0.01,0.009,0.008,0.007,0.006,0.005]\n",
    "Y = []\n",
    "for h in X:\n",
    "    Y.append(abs(np.pi-area_squares(cercleu,1,h)))\n",
    "\n",
    "print(\"La liste des erreurs :\", Y)\n",
    "plt.loglog(X,Y)\n",
    "plt.grid(True)\n",
    "plt.xlabel(\"h\") \n",
    "plt.ylabel(\"Erreur\")"
   ]
  },
  {
   "cell_type": "markdown",
   "metadata": {},
   "source": [
    "**Question**  Expliquer comment cette approche peut être modifiée pour obtenir un encadrement de l'aire recherchée. \n",
    "Appliquer cette approche à l'ensemble de sous niveau considéré précédemment, pour en donner un encadrement à $10^{-2}$ près.\n"
   ]
  },
  {
   "cell_type": "code",
   "execution_count": null,
   "metadata": {},
   "outputs": [],
   "source": [
    "\"\"\"au lieu de regarder si les centre des petits carrés sont bien à l'intérieur,\n",
    "on regarde si un des coin est dedans(pour la majoration)\n",
    "ou si les quatres sont dedans(pour la minoration).\n",
    "L'encadrement ne sera pas tout a fait précis car l'ensemble peut faire\n",
    "en sorte de ne toucher aucun coin du carré,\n",
    "ce qui n'est pas le cas pour le cercle;\n",
    "on peut toutefois régler ce problème en choissant un quadrillage très fin.\"\"\"\n",
    "\n",
    "def entoure_encadre(n,z,c,h,f):\n",
    "    \"\"\"\n",
    "    Renvoie le nombre de carrés de coté h dans la n-ième couche verifiant les conditions\n",
    "    \"\"\"\n",
    "    #Les coordoonées du n-ième contour\n",
    "    haut = np.array([ z[0]+(i-n)*h + (n*h+z[1])*1j  for i in range(2*n+1)], dtype = np.cdouble)\n",
    "    bas = np.array([ z[0]+(i-n)*h + (-n*h+z[1])*1j  for i in range(2*n+1)], dtype = np.cdouble)\n",
    "    gauche = np.array([ z[0]-n*h + ((i-n)*h+z[1])*1j  for i in range(1,2*n)], dtype = np.cdouble)\n",
    "    droite = np.array([ z[0]+n*h + ((i-n)*h+z[1])*1j for i in range(1,2*n)], dtype = np.cdouble)\n",
    "    contour = np.concatenate((haut,bas,gauche,droite))\n",
    "    \n",
    "    #Verifie si les points respectent les conditions\n",
    "    def dedans_inf(x):\n",
    "        if f(x.real+h/2,x.imag+h/2) < c and f(x.real+h/2,x.imag-h/2) < c and f(x.real-h/2,x.imag+h/2) < c and f(x.real-h/2,x.imag-h/2) < c :\n",
    "            return True\n",
    "        return False\n",
    "    vect_inf = np.vectorize(dedans_inf)\n",
    "    \n",
    "    def dedans_sup(x):\n",
    "        if f(x.real+h/2,x.imag+h/2) < c or f(x.real+h/2,x.imag-h/2) < c or f(x.real-h/2,x.imag+h/2) < c or f(x.real-h/2,x.imag-h/2) < c :\n",
    "            return True\n",
    "        return False\n",
    "    vect_sup = np.vectorize(dedans_sup)\n",
    "    \n",
    "    return np.sum(vect_inf(contour)),np.sum(vect_sup(contour))\n",
    "\n",
    "\n",
    "def area_squares_encadr(f,c,encadr, h=1.0 , depart = (0.0,0.0)):\n",
    "    #On prend une sol de base\n",
    "    sol = point_depart(f,c,depart,h)\n",
    "    \n",
    "    #On l'entoure de carrés de plus en plus grandq en augmentant les cotés de 2*h jusqu'à entouré la courbe fermée.\n",
    "    n = 0\n",
    "    nbcarre_mino, nbcarre_maj= -1,-1 #A la première itération de entourer on compte deux fois le premier carré central car haut et bas sont confondus\n",
    "    t = h\n",
    "    \n",
    "    while True:\n",
    "        mino,maj = entoure_encadre(n,sol,c,t,f)\n",
    "        nbcarre_mino += mino\n",
    "        nbcarre_maj += maj\n",
    "        n += 1\n",
    "        \n",
    "        #Si on n'ajoute aucun carré c'est qu'on a entouré la forme et qu'on peut s'arreter\n",
    "        if maj == 0:\n",
    "            \n",
    "            if (nbcarre_maj-nbcarre_mino)*t*t < encadr:\n",
    "                return ( nbcarre_mino*t*t , nbcarre_maj*t*t)\n",
    "            \n",
    "            else: #On recommence avec des carrés plus petit car l'encadrement est trop grand\n",
    "                n = 0\n",
    "                nbcarre_mino, nbcarre_maj= -1,-1\n",
    "                t = t/2\n",
    "                \n",
    "area_squares_encadr(cercleu,1.0,0.01)"
   ]
  },
  {
   "cell_type": "markdown",
   "metadata": {},
   "source": [
    "## Méthode des triangles\n",
    "On suppose maintenant que l'on dispose d'une description approchée de la frontière de l'ensemble $K$, sous la forme d'une suite \"circulaire\"  de points consécutifs:\n",
    "$$\n",
    "(x_0,y_0), (x_1,y_1), \\dots, (x_N,y_N)= (x_0,y_0),\n",
    "$$\n",
    "par exemple la sortie de ``level_curve``.\n",
    "On note $z_i = (x_i,y_i)$. Conformément à ce qui précède, on considére que la courbe fermée est décrite dans le sens anti-trigonométrique (sens des aiguilles d'une montre). On suppose dans un premier temps que l'ensemble $K$ est convexe. \n",
    "On se donne un point $p = (x_p,y_p)$ dans  l'intérieur de $K$, et l'on somme les aires des triangles $(p,z_{i+1},z_i)$. \n",
    "On obtient une approximation de l'aire de $K$, notée $B_N$.\n",
    "\n",
    "**Question** Tester cette approche sur le disque unité. Etudier la convergence de $B_N$ vers $\\pi$ lorsque la distance $\\delta$ entre les points successifs de la courbe de niveau tend vers 0, et étudier numériquement la vitesse de cette convergence.  "
   ]
  },
  {
   "cell_type": "code",
   "execution_count": null,
   "metadata": {},
   "outputs": [],
   "source": [
    "def triang(x1,y1,x2,y2,x3,y3):\n",
    "    \"\"\"\n",
    "    aire d'un triangle\n",
    "    \"\"\"\n",
    "    return 0.5*( x1*(y2-y3) + x2*(y3-y1) + x3*(y1-y2) )\n",
    "triang_vect = np.vectorize(triang)\n",
    "\n",
    "\n",
    "def cercleu_triang( delta=0.1, N=1000, x0=0., y0=0.):\n",
    "    \"\"\"\n",
    "    Calcule l'aire du cercle unité avec la méthode des triangles\n",
    "    \"\"\"\n",
    "    tab = level_curve_v2(cercleu, 1., 0., delta, N)\n",
    "    tab_decale = np.roll(tab,1,axis=1)\n",
    "    \n",
    "    #Calcul l'aire de tous les triangles\n",
    "    triangs = triang_vect(tab[0,:],tab[1,:],tab_decale[0,:],tab_decale[1,:],x0,y0)\n",
    "    \n",
    "    return abs(np.sum(triangs))\n",
    "\n",
    "\n",
    "\n",
    "#On test la convergence avec p = (0,0)\n",
    "Distance = [0.5,0.1,0.05,0.01,0.005,0.001]\n",
    "Erreur = []\n",
    "for delta in Distance:\n",
    "    Erreur.append(abs(np.pi-cercleu_triang(delta,10000)))\n",
    "\n",
    "print(\"La liste des erreurs :\",Erreur)\n",
    "plt.loglog(Distance,Erreur)\n",
    "plt.grid(True)\n",
    "plt.xlabel('Distance: \\u03B4') \n",
    "plt.ylabel(\"Erreur\")"
   ]
  },
  {
   "cell_type": "markdown",
   "metadata": {},
   "source": [
    "**Question** Vérifier que l'approche (on prendra garde à accepter le fait qu'il puisse y avoir, dans le calcul des différentes aires,  des triangles d'aire négative) donne des résultats pertinents même si le point $p$ est  à l'extérieur de $K$. Donner une explication à ce bon comportement."
   ]
  },
  {
   "cell_type": "code",
   "execution_count": null,
   "metadata": {},
   "outputs": [],
   "source": [
    "#test de la convergence avec p = (1,1) qui est à l'exterieur\n",
    "Distance = [0.5,0.1,0.05,0.01,0.005,0.001]\n",
    "Erreur = []\n",
    "for delta in Distance:\n",
    "    Erreur.append(abs(np.pi-cercleu_triang(delta,10000,1.,1.)))\n",
    "\n",
    "print(\"La liste des erreurs :\",Erreur)\n",
    "plt.loglog(Distance,Erreur)\n",
    "plt.grid(True)\n",
    "plt.xlabel('Distance: \\u03B4') \n",
    "plt.ylabel(\"Erreur\");"
   ]
  },
  {
   "cell_type": "markdown",
   "metadata": {},
   "source": [
    "**Question** Vérifier le bon comportement de la méthode dans le cas où l'ensemble $K$ n'est pas convexe. On pourra considérer par exemple la réunion de deux disques, tous deux décrits par leur frontière discrétisée parcourue dans le sans anti-trigonométrique."
   ]
  },
  {
   "cell_type": "code",
   "execution_count": null,
   "metadata": {},
   "outputs": [],
   "source": [
    "#données: p et les delta\n",
    "x0,y0 = 0.,1.\n",
    "Distance = [0.5,0.1,0.05,0.01,0.005,0.001]\n",
    "Erreur = []\n",
    "\n",
    "for delta in Distance:\n",
    "    Theta = np.linspace( np.pi/3, np.pi*5/3, int( 4*np.pi/(3*delta) ) )\n",
    "    X = np.cos(Theta)\n",
    "    Y = np.sin(Theta)\n",
    "    \n",
    "    #forme: l'union des cercle de rayon et de centre (-0.5,0) et (0.5,0)\n",
    "    X = np.concatenate((-X+0.5,X-0.5))\n",
    "    Y = np.concatenate((Y,-Y))\n",
    "\n",
    "    X_dec = np.roll(X,1)\n",
    "    Y_dec = np.roll(Y,1)\n",
    "    \n",
    "    triangs = triang_vect(X,Y,X_dec,Y_dec,x0,y0)\n",
    "    aire = abs(np.sum(triangs))\n",
    "    Erreur.append(abs( 4*np.pi/3+np.sqrt(3)/2 - aire ))\n",
    "    \n",
    "    \n",
    "#On montre la forme\n",
    "plt.plot(X,Y)\n",
    "plt.grid(True)\n",
    "plt.gca().set_aspect(\"equal\")\n",
    "plt.show()\n",
    "\n",
    "\n",
    "#Le graphe de l'erreur en fonction de delta\n",
    "print(\"La liste des erreurs :\",Erreur)\n",
    "plt.loglog(Distance,Erreur)\n",
    "plt.grid(True)\n",
    "plt.xlabel('Distance: \\u03B4') \n",
    "plt.ylabel(\"Erreur\")"
   ]
  },
  {
   "cell_type": "markdown",
   "metadata": {},
   "source": [
    "**Question** En déduire une fonction `area_triangles(x,y)` qui évalue l'aire d'une surface de niveau décrite par un ensemble de points $(x_i,y_i)$ de la courbe de niveau. Appliquer cette approche à l'ensemble de sous-niveau considéré précédemment, et vérifier que les deux méthodes (carrés et triangles) donnent des résultats cohérents entre elles. \n",
    "Comparer les méthodes entre elles, en précisant les avantages et défauts relatifs de chacune d'elles. \n",
    "(On pourra appuyer la réponse sur des tests numériques ainsi que sur des arguments théoriques)"
   ]
  },
  {
   "cell_type": "code",
   "execution_count": null,
   "metadata": {},
   "outputs": [],
   "source": [
    "def area_triangles(x,y,x0=0.,y0=0.):\n",
    "    x_dec = np.roll(x,1)\n",
    "    y_dec = np.roll(y,1)\n",
    "    \n",
    "    triangs = triang_vect(x,y,x_dec,y_dec,x0,y0)\n",
    "    return abs(np.sum(triangs)"
   ]
  },
  {
   "cell_type": "code",
   "execution_count": null,
   "metadata": {},
   "outputs": [],
   "source": [
    "x0,y0 = Newton(newf2(1),1.0,-0.5)\n",
    "courbe1 = level_curve_v2(f2,x0,y0)\n",
    "\n",
    "#aire de f2(x,y) < 1 avec delta = 1\n",
    "print(f\"méthode des triangles : {area_triangles(courbe1[0,:],courbe1[1,:])}\")\n",
    "print(f\"méthode des carrés : {area_squares(f2,1.0,0.1)}\")\n",
    "\n",
    "#Les deux méthodes semblent cohérentes"
   ]
  },
  {
   "cell_type": "code",
   "execution_count": null,
   "metadata": {},
   "outputs": [],
   "source": [
    "\"\"\"La méthode des triangles converge plus rapidement lorsqu'on a une courbe de niveau, (notamment pour l'aire d'un cercle)\n",
    "Cependant la méthode des carrés ne nécessite pas de courbe de niveau.\"\"\""
   ]
  }
 ],
 "metadata": {
  "interpreter": {
   "hash": "1646da9b8433e3ca122ce063a8050fa61fc5ed500e529dbefec3b564e867e6ed"
  },
  "kernelspec": {
   "display_name": "Python 3.9.5 64-bit ('base': conda)",
   "name": "python3"
  },
  "language_info": {
   "codemirror_mode": {
    "name": "ipython",
    "version": 3
   },
   "file_extension": ".py",
   "mimetype": "text/x-python",
   "name": "python",
   "nbconvert_exporter": "python",
   "pygments_lexer": "ipython3",
   "version": "3.9.5"
  }
 },
 "nbformat": 4,
 "nbformat_minor": 4
}
